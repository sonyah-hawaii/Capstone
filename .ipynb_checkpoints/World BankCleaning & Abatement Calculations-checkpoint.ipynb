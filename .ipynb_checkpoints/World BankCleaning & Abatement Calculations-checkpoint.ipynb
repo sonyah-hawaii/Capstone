{
 "cells": [
  {
   "cell_type": "markdown",
   "metadata": {},
   "source": [
    "# Data Cleaning & Abatement Calculations (Target Development)\n",
    "This notebook outlines the process of developing the target variable: CO2 units abated annually over time. The calculation uses datasets from the [World Bank](https://data.worldbank.org/) The intention of developing this target, instead of only using the metrics given, is to focus the analysis towards the long-term goal (improving environmental quality by reducing overall emissions).  \n",
    "\n",
    "## Notebook Contents\n",
    "- [Loading in and merging data sources](#loading_and_merging)  \n",
    "    [Countries in the dataset](#full_country_list)\n",
    "- [Developing abatement equation](#equation)\n",
    "- [Historical Abatement Calculations](#abatement_calculations)\n",
    "- [Completed CSV File](#csv)"
   ]
  },
  {
   "cell_type": "code",
   "execution_count": 1,
   "metadata": {},
   "outputs": [],
   "source": [
    "import pandas as pd\n",
    "import numpy as np\n",
    "import matplotlib.pyplot as plt\n",
    "\n",
    "%matplotlib inline"
   ]
  },
  {
   "cell_type": "markdown",
   "metadata": {},
   "source": [
    "### _Loading in and merging data sources_\n",
    "<a id='loading_and_merging'></a>\n",
    "\n",
    "Although most of our data is from the same source, each attribute needed to be pulled and saved as a separate table, then read in individually. There were initially a few issues with the way the datasets were reading in because of how the Yearbook is formatted so the `kwargs` and the `.replace` cell were included as a result of trial-and-error read-ins.  \n",
    "\n",
    "Otherwise, there is no true cleaning needed, except to [fill nulls for the patent dataset](#fill_nulls)"
   ]
  },
  {
   "cell_type": "code",
   "execution_count": 2,
   "metadata": {},
   "outputs": [],
   "source": [
    "#Loading in excel files\n",
    "total_emissions = pd.read_excel(\n",
    "    './data_worldbank/co2_emissions.xls', index_col='Country Name')\n",
    "\n",
    "electric_consumption_pc = pd.read_excel(\n",
    "    './data_worldbank/pct_co2_emissions_electric.xls', index_col='Country Name')\n",
    "\n",
    "electric_emissions = pd.read_excel(\n",
    "    './data_worldbank/pct_co2_emissions_electric.xls', index_col='Country Name')\n",
    "\n",
    "electric_production_reneg = pd.read_excel(\n",
    "    './data_worldbank/pct_share_electricity_hydro.xls', index_col='Country Name')\n",
    "\n",
    "electric_production_hydro = pd.read_excel(\n",
    "    './data_worldbank/pct_share_electric_reneg.xls', index_col='Country Name')"
   ]
  },
  {
   "cell_type": "code",
   "execution_count": 3,
   "metadata": {},
   "outputs": [],
   "source": [
    "datasets = ['total_emissions','electric_consumption_pc','electric_emissions','electric_production_hydro','electric_production_reneg']"
   ]
  },
  {
   "cell_type": "code",
   "execution_count": 4,
   "metadata": {},
   "outputs": [
    {
     "name": "stdout",
     "output_type": "stream",
     "text": [
      "(264, 55)\n",
      "(264, 55)\n",
      "(264, 55)\n",
      "(264, 55)\n",
      "(264, 55)\n"
     ]
    }
   ],
   "source": [
    "for i in datasets:\n",
    "    print(eval(i).shape)"
   ]
  },
  {
   "cell_type": "markdown",
   "metadata": {},
   "source": [
    "### There's a shortcut to cleaning multiple, complementary datasets at once.\n",
    "### Save the names of datasets in a list of strings when you first import everything, later we'll use the 'eval' function to clean with loops"
   ]
  },
  {
   "cell_type": "code",
   "execution_count": 5,
   "metadata": {},
   "outputs": [],
   "source": [
    "#aggregate objects that need to be removed\n",
    "non_countries = ['East Asia & Pacific (excluding high income)','Early-demographic dividend',\n",
    "'East Asia & Pacific','Europe & Central Asia (excluding high income)','Europe & Central Asia',\n",
    "'Euro area','European Union','Fragile and conflict affected situations','High income',\n",
    "'IBRD only','IDA & IBRD total','IDA total','IDA blend','IDA only','Not classified',\n",
    "'Latin America & Caribbean (excluding high income)','Latin America & Caribbean',\n",
    "'Least developed countries: UN classification','Low income','Lower middle income','Low & middle income',\n",
    "'Late-demographic dividend','Middle East & North Africa (excluding high income)','North America',\n",
    "'OECD members','Other small states','Pre-demographic dividend','Post-demographic dividend',\n",
    "'Sub-Saharan Africa (excluding high income)','Small states','East Asia & Pacific (IDA & IBRD countries)',\n",
    "'Europe & Central Asia (IDA & IBRD countries)','Latin America & the Caribbean (IDA & IBRD countries)',\n",
    "'Middle East & North Africa (IDA & IBRD countries)','South Asia (IDA & IBRD)',\n",
    "'Sub-Saharan Africa (IDA & IBRD countries)','Upper middle income','Central Europe and the Baltics',\n",
    "'Heavily indebted poor countries (HIPC)','Middle East & North Africa','Middle income', 'World' ]"
   ]
  },
  {
   "cell_type": "code",
   "execution_count": 6,
   "metadata": {},
   "outputs": [],
   "source": [
    "#run through datasets loop to drop list\n",
    "for i in datasets:\n",
    "    eval(i).drop(labels=non_countries, axis=0, inplace=True)"
   ]
  },
  {
   "cell_type": "code",
   "execution_count": 7,
   "metadata": {},
   "outputs": [
    {
     "name": "stdout",
     "output_type": "stream",
     "text": [
      "(222, 55)\n",
      "(222, 55)\n",
      "(222, 55)\n",
      "(222, 55)\n",
      "(222, 55)\n"
     ]
    }
   ],
   "source": [
    "for i in datasets:\n",
    "    print(eval(i).shape)"
   ]
  },
  {
   "cell_type": "code",
   "execution_count": 8,
   "metadata": {},
   "outputs": [],
   "source": [
    "total_emissions = total_emissions.iloc[:, 20:]\n",
    "electric_consumption_pc = electric_consumption_pc.iloc[:, 20:]\n",
    "electric_emissions = electric_emissions.iloc[:, 20:]\n",
    "electric_production_hydro = electric_production_hydro.iloc[:, 20:]\n",
    "electric_production_reneg = electric_production_reneg.iloc[:, 20:]"
   ]
  },
  {
   "cell_type": "code",
   "execution_count": 9,
   "metadata": {},
   "outputs": [
    {
     "data": {
      "text/plain": [
       "(222, 35)"
      ]
     },
     "execution_count": 9,
     "metadata": {},
     "output_type": "execute_result"
    }
   ],
   "source": [
    "total_emissions.shape"
   ]
  },
  {
   "cell_type": "code",
   "execution_count": 47,
   "metadata": {},
   "outputs": [],
   "source": [
    "#building list of countries that are completely null\n",
    "#saving them as a list will also allow you to track changes and follow up\n",
    "#we need to remove any countries that have any missing values for CO2 emissions.\n",
    "#many of these have renewable energy values missing, but that's fine.\n",
    "\n",
    "has_nulls = []\n",
    "for i in total_emissions.T:\n",
    "    if total_emissions.T[i].isnull().sum()>0:\n",
    "        has_nulls.append(str(i))"
   ]
  },
  {
   "cell_type": "code",
   "execution_count": 48,
   "metadata": {},
   "outputs": [],
   "source": [
    "for i in datasets:\n",
    "    eval(i).drop(labels=has_nulls, axis=0, inplace=True)"
   ]
  },
  {
   "cell_type": "code",
   "execution_count": 49,
   "metadata": {},
   "outputs": [
    {
     "name": "stdout",
     "output_type": "stream",
     "text": [
      "(171, 35)\n",
      "(171, 35)\n",
      "(171, 36)\n",
      "(171, 35)\n"
     ]
    }
   ],
   "source": [
    "#let's check on our shape to make sure they're all the same before passing it throuhg our calculation loop\n",
    "for i in datasets:\n",
    "    print(eval(i).shape)"
   ]
  },
  {
   "cell_type": "code",
   "execution_count": 50,
   "metadata": {},
   "outputs": [],
   "source": [
    "#Loading in CSVs\n",
    "for i in datasets:\n",
    "    eval(i).to_csv(f'./cleaned_data/{i}.csv')"
   ]
  },
  {
   "cell_type": "code",
   "execution_count": 51,
   "metadata": {},
   "outputs": [
    {
     "name": "stdout",
     "output_type": "stream",
     "text": [
      "There are 171 countries in our dataset without nulls.\n",
      "We eliminated 0 countries that contained no data across the length of our dataset:\n",
      "[]\n"
     ]
    }
   ],
   "source": [
    "print(f'There are {total_emissions.shape[0]} countries in our dataset without nulls.\\\n",
    "\\nWe eliminated {len(has_nulls)} countries that contained no data across the length of our dataset:\\\n",
    "\\n{has_nulls}')"
   ]
  },
  {
   "cell_type": "markdown",
   "metadata": {},
   "source": [
    "<a id='full_country_list'></a>"
   ]
  },
  {
   "cell_type": "markdown",
   "metadata": {},
   "source": [
    "### _Developing the Abatement Equation_\n",
    "<a id='equation'></a>\n",
    "\n",
    "In order to develop this equation the datasets needed to be merged individually to avoid errors and column name confusion. The datasets included in this process house emissions data, percentage of emissions from electricity and heat production, total electricity production, and percentage of electricity production from renewable resources (solar, wind, and geothermal).\n",
    "\n",
    "You can also [skip to the equation broken down step-by-step](#equation_breakdown)\n"
   ]
  },
  {
   "cell_type": "code",
   "execution_count": 52,
   "metadata": {},
   "outputs": [],
   "source": [
    "electric_production_reneg_total = electric_production_hydro+electric_production_reneg\n",
    "datasets = ['total_emissions','electric_consumption_pc','electric_emissions','electric_production_reneg_total']"
   ]
  },
  {
   "cell_type": "code",
   "execution_count": 53,
   "metadata": {},
   "outputs": [
    {
     "name": "stdout",
     "output_type": "stream",
     "text": [
      "total_emissions\n",
      "electric_consumption_pc\n",
      "electric_emissions\n",
      "electric_production_reneg_total\n"
     ]
    }
   ],
   "source": [
    "for i in datasets:\n",
    "    print(i)"
   ]
  },
  {
   "cell_type": "code",
   "execution_count": 54,
   "metadata": {},
   "outputs": [],
   "source": [
    "total_emissions = pd.read_csv('./cleaned_data/total_emissions.csv', index_col='Country Name')\n",
    "electric_consumption_pc = pd.read_csv('./cleaned_data/electric_consumption_pc.csv', index_col='Country Name')\n",
    "electric_production_reneg = pd.read_csv('./cleaned_data/electric_production_reneg.csv', index_col='Country Name')\n",
    "electric_production_hydro = pd.read_csv('./cleaned_data/electric_production_hydro.csv', index_col='Country Name')\n",
    "electric_emissions = pd.read_csv('./cleaned_data/electric_emissions.csv')"
   ]
  },
  {
   "cell_type": "code",
   "execution_count": 55,
   "metadata": {},
   "outputs": [],
   "source": [
    "years=[i for i in total_emissions.columns]"
   ]
  },
  {
   "cell_type": "code",
   "execution_count": 56,
   "metadata": {},
   "outputs": [],
   "source": [
    "for i in datasets:\n",
    "    eval(i).fillna(0, inplace=True)"
   ]
  },
  {
   "cell_type": "markdown",
   "metadata": {},
   "source": [
    "## _Equation Breakdown_\n",
    "<a id='equation_breakdown'></a>\n",
    "\n",
    "This equation was developed with a few focuses. In order to truly measure abatement, it was first important to determine how much of a country's emissions were caused by generation of electricity and heat ($φυ$) because these are the two consumption routes that renewable energy sources are a part of. You can then divide this value by the share of conventional production ($λ(1-γ)$)to get the units of CO2 emitted per unit of energy produced with conventional methods. Finally, we can multiple that number by the share of energy produced with renewable methods to assess how many units of CO2 were _saved_ per unit of renewable energy produced.  \n",
    "\n",
    "\n",
    "# $$\\frac{φυ}{λ(1-γ)}γλ$$\n",
    "**co2_abated (Final Output)**: _metric tons of CO2 abated for every unit of energy produced using renewable sources_  \n",
    "Where:\n",
    "-  $φ$ **co2_emissions**: _Total CO2 Units emitted annually, measured in metric tons of CO2_  \n",
    "- $υ$ **electric_emissions_pct**: _Percentage of CO2 emissions from producing heat & electricity_  \n",
    "- $λ$ **electric_production**: _Amount of electricity produced annually, measured in metric tons of energy_  \n",
    "- $γ$ **reneg_production**: _Percentage of electricity production from renewable sources_  \n",
    "\n"
   ]
  },
  {
   "cell_type": "code",
   "execution_count": 57,
   "metadata": {},
   "outputs": [],
   "source": [
    "def abatement_calculator(dataset_names, no_years):\n",
    "    calculation = pd.DataFrame()\n",
    "    for year in no_years:\n",
    "        for dataset in dataset_names:\n",
    "            if dataset == 'total_emissions':\n",
    "                    calculation['countries'] = [i for i in eval(dataset)[year].index]\n",
    "                    calculation['total_emissions'] = eval(dataset)[year].astype(int).values\n",
    "            if dataset == 'electric_emissions':\n",
    "                    calculation['electric_emissions'] = eval(dataset)[year].values/100\n",
    "            if dataset == 'electric_consumption_pc':\n",
    "                    calculation['electric_consumption_pc'] = eval(dataset)[year].values\n",
    "            if dataset == 'electric_production_reneg_total':\n",
    "                    calculation['electric_production_reneg_total'] = eval(dataset)[year].values/100\n",
    "        calculation.set_index('countries', inplace=True)\n",
    "        abated = []\n",
    "        for n in calculation.index:\n",
    "            abated.append(\n",
    "                (calculation.loc[n, 'total_emissions']*calculation.loc[n, 'electric_emissions'])/\n",
    "                (calculation.loc[n, 'electric_consumption_pc']*(1-calculation.loc[n, 'electric_production_reneg_total']))*\n",
    "                (calculation.loc[n, 'electric_production_reneg_total']*calculation.loc[n, 'electric_consumption_pc'])\n",
    "            )\n",
    "        calculation[f'{year}'] = abated\n",
    "    calculation.drop(labels=dataset_names, axis=1, inplace=True)\n",
    "    calculation.fillna(0, inplace=True)\n",
    "    return calculation"
   ]
  },
  {
   "cell_type": "code",
   "execution_count": 58,
   "metadata": {},
   "outputs": [
    {
     "name": "stderr",
     "output_type": "stream",
     "text": [
      "/Users/sonyahseiden/anaconda3/lib/python3.6/site-packages/ipykernel_launcher.py:19: RuntimeWarning: invalid value encountered in double_scalars\n"
     ]
    }
   ],
   "source": [
    "abated = abatement_calculator(datasets, years)"
   ]
  },
  {
   "cell_type": "code",
   "execution_count": 62,
   "metadata": {},
   "outputs": [],
   "source": [
    "abated.to_csv('./cleaned_data/abatement_calculations.csv')"
   ]
  }
 ],
 "metadata": {
  "kernelspec": {
   "display_name": "Python 3",
   "language": "python",
   "name": "python3"
  },
  "language_info": {
   "codemirror_mode": {
    "name": "ipython",
    "version": 3
   },
   "file_extension": ".py",
   "mimetype": "text/x-python",
   "name": "python",
   "nbconvert_exporter": "python",
   "pygments_lexer": "ipython3",
   "version": "3.6.5"
  }
 },
 "nbformat": 4,
 "nbformat_minor": 2
}
